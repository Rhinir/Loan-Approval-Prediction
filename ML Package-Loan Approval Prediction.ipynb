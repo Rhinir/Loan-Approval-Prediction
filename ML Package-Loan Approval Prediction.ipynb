{
 "cells": [
  {
   "cell_type": "markdown",
   "metadata": {},
   "source": [
    "# Problem Description\n",
    "\n",
    "Company wants to automate the loan eligibility process (real time) based on customer detail provided while filling online application form. These details are Gender, Marital Status, Education, Number of Dependents, Income, Loan Amount, Credit History and others. To automate this process, they have given a problem to identify the customers segments, those are eligible for loan amount so that they can specifically target these customers. Here they have provided a partial data set.\n"
   ]
  },
  {
   "cell_type": "markdown",
   "metadata": {},
   "source": [
    "# Importing Libraries"
   ]
  },
  {
   "cell_type": "code",
   "execution_count": 3,
   "metadata": {
    "execution": {
     "iopub.execute_input": "2022-03-06T11:21:23.647999Z",
     "iopub.status.busy": "2022-03-06T11:21:23.647334Z",
     "iopub.status.idle": "2022-03-06T11:21:24.852263Z",
     "shell.execute_reply": "2022-03-06T11:21:24.850569Z",
     "shell.execute_reply.started": "2022-03-06T11:21:23.647866Z"
    }
   },
   "outputs": [],
   "source": [
    "import  numpy as np\n",
    "import  pandas as pd\n",
    "import seaborn as sns\n",
    "import matplotlib.pyplot as plt\n",
    "%matplotlib inline"
   ]
  },
  {
   "cell_type": "code",
   "execution_count": 4,
   "metadata": {
    "execution": {
     "iopub.execute_input": "2022-03-06T11:21:24.854451Z",
     "iopub.status.busy": "2022-03-06T11:21:24.854206Z",
     "iopub.status.idle": "2022-03-06T11:21:25.297328Z",
     "shell.execute_reply": "2022-03-06T11:21:25.296315Z",
     "shell.execute_reply.started": "2022-03-06T11:21:24.854422Z"
    },
    "scrolled": true
   },
   "outputs": [],
   "source": [
    "from sklearn.model_selection import train_test_split\n",
    "from sklearn import feature_selection\n",
    "from sklearn import model_selection\n",
    "from sklearn.metrics import accuracy_score \n",
    "from sklearn.linear_model import LogisticRegression\n",
    "from sklearn.svm import SVC\n",
    "from sklearn.naive_bayes import GaussianNB\n",
    "from sklearn.ensemble import RandomForestClassifier\n",
    "from sklearn.neighbors import KNeighborsClassifier\n",
    "\n",
    "import warnings\n",
    "warnings.filterwarnings('ignore')"
   ]
  },
  {
   "cell_type": "markdown",
   "metadata": {},
   "source": [
    "# Importing data "
   ]
  },
  {
   "cell_type": "code",
   "execution_count": 6,
   "metadata": {
    "execution": {
     "iopub.execute_input": "2022-03-06T11:21:25.299029Z",
     "iopub.status.busy": "2022-03-06T11:21:25.298752Z",
     "iopub.status.idle": "2022-03-06T11:21:25.341863Z",
     "shell.execute_reply": "2022-03-06T11:21:25.340893Z",
     "shell.execute_reply.started": "2022-03-06T11:21:25.298999Z"
    }
   },
   "outputs": [],
   "source": [
    "train = pd.read_csv('train_lp.csv')\n",
    "test = pd.read_csv('test_lp.csv')"
   ]
  },
  {
   "cell_type": "code",
   "execution_count": 7,
   "metadata": {
    "execution": {
     "iopub.execute_input": "2022-03-06T11:21:25.344298Z",
     "iopub.status.busy": "2022-03-06T11:21:25.344011Z",
     "iopub.status.idle": "2022-03-06T11:21:25.350891Z",
     "shell.execute_reply": "2022-03-06T11:21:25.349697Z",
     "shell.execute_reply.started": "2022-03-06T11:21:25.344265Z"
    }
   },
   "outputs": [
    {
     "name": "stdout",
     "output_type": "stream",
     "text": [
      "(614, 13) (367, 12)\n"
     ]
    }
   ],
   "source": [
    "print (train.shape, test.shape)"
   ]
  },
  {
   "cell_type": "markdown",
   "metadata": {},
   "source": [
    "# EDA & Data-Preprocessing"
   ]
  },
  {
   "cell_type": "markdown",
   "metadata": {},
   "source": [
    "### Viewing the train dataset"
   ]
  },
  {
   "cell_type": "code",
   "execution_count": 8,
   "metadata": {
    "execution": {
     "iopub.execute_input": "2022-03-06T11:21:25.353484Z",
     "iopub.status.busy": "2022-03-06T11:21:25.352908Z",
     "iopub.status.idle": "2022-03-06T11:21:25.388314Z",
     "shell.execute_reply": "2022-03-06T11:21:25.387343Z",
     "shell.execute_reply.started": "2022-03-06T11:21:25.35343Z"
    }
   },
   "outputs": [
    {
     "data": {
      "text/html": [
       "<div>\n",
       "<style scoped>\n",
       "    .dataframe tbody tr th:only-of-type {\n",
       "        vertical-align: middle;\n",
       "    }\n",
       "\n",
       "    .dataframe tbody tr th {\n",
       "        vertical-align: top;\n",
       "    }\n",
       "\n",
       "    .dataframe thead th {\n",
       "        text-align: right;\n",
       "    }\n",
       "</style>\n",
       "<table border=\"1\" class=\"dataframe\">\n",
       "  <thead>\n",
       "    <tr style=\"text-align: right;\">\n",
       "      <th></th>\n",
       "      <th>Loan_ID</th>\n",
       "      <th>Gender</th>\n",
       "      <th>Married</th>\n",
       "      <th>Dependents</th>\n",
       "      <th>Education</th>\n",
       "      <th>Self_Employed</th>\n",
       "      <th>ApplicantIncome</th>\n",
       "      <th>CoapplicantIncome</th>\n",
       "      <th>LoanAmount</th>\n",
       "      <th>Loan_Amount_Term</th>\n",
       "      <th>Credit_History</th>\n",
       "      <th>Property_Area</th>\n",
       "      <th>Loan_Status</th>\n",
       "    </tr>\n",
       "  </thead>\n",
       "  <tbody>\n",
       "    <tr>\n",
       "      <th>0</th>\n",
       "      <td>LP001002</td>\n",
       "      <td>Male</td>\n",
       "      <td>No</td>\n",
       "      <td>0</td>\n",
       "      <td>Graduate</td>\n",
       "      <td>No</td>\n",
       "      <td>5849</td>\n",
       "      <td>0.0</td>\n",
       "      <td>NaN</td>\n",
       "      <td>360.0</td>\n",
       "      <td>1.0</td>\n",
       "      <td>Urban</td>\n",
       "      <td>Y</td>\n",
       "    </tr>\n",
       "    <tr>\n",
       "      <th>1</th>\n",
       "      <td>LP001003</td>\n",
       "      <td>Male</td>\n",
       "      <td>Yes</td>\n",
       "      <td>1</td>\n",
       "      <td>Graduate</td>\n",
       "      <td>No</td>\n",
       "      <td>4583</td>\n",
       "      <td>1508.0</td>\n",
       "      <td>128.0</td>\n",
       "      <td>360.0</td>\n",
       "      <td>1.0</td>\n",
       "      <td>Rural</td>\n",
       "      <td>N</td>\n",
       "    </tr>\n",
       "    <tr>\n",
       "      <th>2</th>\n",
       "      <td>LP001005</td>\n",
       "      <td>Male</td>\n",
       "      <td>Yes</td>\n",
       "      <td>0</td>\n",
       "      <td>Graduate</td>\n",
       "      <td>Yes</td>\n",
       "      <td>3000</td>\n",
       "      <td>0.0</td>\n",
       "      <td>66.0</td>\n",
       "      <td>360.0</td>\n",
       "      <td>1.0</td>\n",
       "      <td>Urban</td>\n",
       "      <td>Y</td>\n",
       "    </tr>\n",
       "    <tr>\n",
       "      <th>3</th>\n",
       "      <td>LP001006</td>\n",
       "      <td>Male</td>\n",
       "      <td>Yes</td>\n",
       "      <td>0</td>\n",
       "      <td>Not Graduate</td>\n",
       "      <td>No</td>\n",
       "      <td>2583</td>\n",
       "      <td>2358.0</td>\n",
       "      <td>120.0</td>\n",
       "      <td>360.0</td>\n",
       "      <td>1.0</td>\n",
       "      <td>Urban</td>\n",
       "      <td>Y</td>\n",
       "    </tr>\n",
       "    <tr>\n",
       "      <th>4</th>\n",
       "      <td>LP001008</td>\n",
       "      <td>Male</td>\n",
       "      <td>No</td>\n",
       "      <td>0</td>\n",
       "      <td>Graduate</td>\n",
       "      <td>No</td>\n",
       "      <td>6000</td>\n",
       "      <td>0.0</td>\n",
       "      <td>141.0</td>\n",
       "      <td>360.0</td>\n",
       "      <td>1.0</td>\n",
       "      <td>Urban</td>\n",
       "      <td>Y</td>\n",
       "    </tr>\n",
       "  </tbody>\n",
       "</table>\n",
       "</div>"
      ],
      "text/plain": [
       "    Loan_ID Gender Married Dependents     Education Self_Employed  \\\n",
       "0  LP001002   Male      No          0      Graduate            No   \n",
       "1  LP001003   Male     Yes          1      Graduate            No   \n",
       "2  LP001005   Male     Yes          0      Graduate           Yes   \n",
       "3  LP001006   Male     Yes          0  Not Graduate            No   \n",
       "4  LP001008   Male      No          0      Graduate            No   \n",
       "\n",
       "   ApplicantIncome  CoapplicantIncome  LoanAmount  Loan_Amount_Term  \\\n",
       "0             5849                0.0         NaN             360.0   \n",
       "1             4583             1508.0       128.0             360.0   \n",
       "2             3000                0.0        66.0             360.0   \n",
       "3             2583             2358.0       120.0             360.0   \n",
       "4             6000                0.0       141.0             360.0   \n",
       "\n",
       "   Credit_History Property_Area Loan_Status  \n",
       "0             1.0         Urban           Y  \n",
       "1             1.0         Rural           N  \n",
       "2             1.0         Urban           Y  \n",
       "3             1.0         Urban           Y  \n",
       "4             1.0         Urban           Y  "
      ]
     },
     "execution_count": 8,
     "metadata": {},
     "output_type": "execute_result"
    }
   ],
   "source": [
    "train.head() "
   ]
  },
  {
   "cell_type": "code",
   "execution_count": 9,
   "metadata": {
    "execution": {
     "iopub.execute_input": "2022-03-06T11:21:25.390643Z",
     "iopub.status.busy": "2022-03-06T11:21:25.390056Z",
     "iopub.status.idle": "2022-03-06T11:21:25.421214Z",
     "shell.execute_reply": "2022-03-06T11:21:25.42027Z",
     "shell.execute_reply.started": "2022-03-06T11:21:25.390598Z"
    }
   },
   "outputs": [
    {
     "name": "stdout",
     "output_type": "stream",
     "text": [
      "<class 'pandas.core.frame.DataFrame'>\n",
      "RangeIndex: 614 entries, 0 to 613\n",
      "Data columns (total 13 columns):\n",
      " #   Column             Non-Null Count  Dtype  \n",
      "---  ------             --------------  -----  \n",
      " 0   Loan_ID            614 non-null    object \n",
      " 1   Gender             601 non-null    object \n",
      " 2   Married            611 non-null    object \n",
      " 3   Dependents         599 non-null    object \n",
      " 4   Education          614 non-null    object \n",
      " 5   Self_Employed      582 non-null    object \n",
      " 6   ApplicantIncome    614 non-null    int64  \n",
      " 7   CoapplicantIncome  614 non-null    float64\n",
      " 8   LoanAmount         592 non-null    float64\n",
      " 9   Loan_Amount_Term   600 non-null    float64\n",
      " 10  Credit_History     564 non-null    float64\n",
      " 11  Property_Area      614 non-null    object \n",
      " 12  Loan_Status        614 non-null    object \n",
      "dtypes: float64(4), int64(1), object(8)\n",
      "memory usage: 62.5+ KB\n"
     ]
    }
   ],
   "source": [
    "train.info() "
   ]
  },
  {
   "cell_type": "markdown",
   "metadata": {},
   "source": [
    "### Viewing no of null data in each feature of the train dataset"
   ]
  },
  {
   "cell_type": "code",
   "execution_count": 10,
   "metadata": {
    "execution": {
     "iopub.execute_input": "2022-03-06T11:21:25.423404Z",
     "iopub.status.busy": "2022-03-06T11:21:25.422699Z",
     "iopub.status.idle": "2022-03-06T11:21:25.436496Z",
     "shell.execute_reply": "2022-03-06T11:21:25.43522Z",
     "shell.execute_reply.started": "2022-03-06T11:21:25.423347Z"
    },
    "scrolled": true
   },
   "outputs": [
    {
     "data": {
      "text/plain": [
       "Loan_ID               0\n",
       "Gender               13\n",
       "Married               3\n",
       "Dependents           15\n",
       "Education             0\n",
       "Self_Employed        32\n",
       "ApplicantIncome       0\n",
       "CoapplicantIncome     0\n",
       "LoanAmount           22\n",
       "Loan_Amount_Term     14\n",
       "Credit_History       50\n",
       "Property_Area         0\n",
       "Loan_Status           0\n",
       "dtype: int64"
      ]
     },
     "execution_count": 10,
     "metadata": {},
     "output_type": "execute_result"
    }
   ],
   "source": [
    "train.isnull().sum()"
   ]
  },
  {
   "cell_type": "markdown",
   "metadata": {},
   "source": [
    "### Viewing the test dataset"
   ]
  },
  {
   "cell_type": "code",
   "execution_count": 11,
   "metadata": {
    "execution": {
     "iopub.execute_input": "2022-03-06T11:21:25.438471Z",
     "iopub.status.busy": "2022-03-06T11:21:25.438085Z",
     "iopub.status.idle": "2022-03-06T11:21:25.459943Z",
     "shell.execute_reply": "2022-03-06T11:21:25.459061Z",
     "shell.execute_reply.started": "2022-03-06T11:21:25.438429Z"
    }
   },
   "outputs": [
    {
     "data": {
      "text/html": [
       "<div>\n",
       "<style scoped>\n",
       "    .dataframe tbody tr th:only-of-type {\n",
       "        vertical-align: middle;\n",
       "    }\n",
       "\n",
       "    .dataframe tbody tr th {\n",
       "        vertical-align: top;\n",
       "    }\n",
       "\n",
       "    .dataframe thead th {\n",
       "        text-align: right;\n",
       "    }\n",
       "</style>\n",
       "<table border=\"1\" class=\"dataframe\">\n",
       "  <thead>\n",
       "    <tr style=\"text-align: right;\">\n",
       "      <th></th>\n",
       "      <th>Loan_ID</th>\n",
       "      <th>Gender</th>\n",
       "      <th>Married</th>\n",
       "      <th>Dependents</th>\n",
       "      <th>Education</th>\n",
       "      <th>Self_Employed</th>\n",
       "      <th>ApplicantIncome</th>\n",
       "      <th>CoapplicantIncome</th>\n",
       "      <th>LoanAmount</th>\n",
       "      <th>Loan_Amount_Term</th>\n",
       "      <th>Credit_History</th>\n",
       "      <th>Property_Area</th>\n",
       "    </tr>\n",
       "  </thead>\n",
       "  <tbody>\n",
       "    <tr>\n",
       "      <th>0</th>\n",
       "      <td>LP001015</td>\n",
       "      <td>Male</td>\n",
       "      <td>Yes</td>\n",
       "      <td>0</td>\n",
       "      <td>Graduate</td>\n",
       "      <td>No</td>\n",
       "      <td>5720</td>\n",
       "      <td>0</td>\n",
       "      <td>110.0</td>\n",
       "      <td>360.0</td>\n",
       "      <td>1.0</td>\n",
       "      <td>Urban</td>\n",
       "    </tr>\n",
       "    <tr>\n",
       "      <th>1</th>\n",
       "      <td>LP001022</td>\n",
       "      <td>Male</td>\n",
       "      <td>Yes</td>\n",
       "      <td>1</td>\n",
       "      <td>Graduate</td>\n",
       "      <td>No</td>\n",
       "      <td>3076</td>\n",
       "      <td>1500</td>\n",
       "      <td>126.0</td>\n",
       "      <td>360.0</td>\n",
       "      <td>1.0</td>\n",
       "      <td>Urban</td>\n",
       "    </tr>\n",
       "    <tr>\n",
       "      <th>2</th>\n",
       "      <td>LP001031</td>\n",
       "      <td>Male</td>\n",
       "      <td>Yes</td>\n",
       "      <td>2</td>\n",
       "      <td>Graduate</td>\n",
       "      <td>No</td>\n",
       "      <td>5000</td>\n",
       "      <td>1800</td>\n",
       "      <td>208.0</td>\n",
       "      <td>360.0</td>\n",
       "      <td>1.0</td>\n",
       "      <td>Urban</td>\n",
       "    </tr>\n",
       "    <tr>\n",
       "      <th>3</th>\n",
       "      <td>LP001035</td>\n",
       "      <td>Male</td>\n",
       "      <td>Yes</td>\n",
       "      <td>2</td>\n",
       "      <td>Graduate</td>\n",
       "      <td>No</td>\n",
       "      <td>2340</td>\n",
       "      <td>2546</td>\n",
       "      <td>100.0</td>\n",
       "      <td>360.0</td>\n",
       "      <td>NaN</td>\n",
       "      <td>Urban</td>\n",
       "    </tr>\n",
       "    <tr>\n",
       "      <th>4</th>\n",
       "      <td>LP001051</td>\n",
       "      <td>Male</td>\n",
       "      <td>No</td>\n",
       "      <td>0</td>\n",
       "      <td>Not Graduate</td>\n",
       "      <td>No</td>\n",
       "      <td>3276</td>\n",
       "      <td>0</td>\n",
       "      <td>78.0</td>\n",
       "      <td>360.0</td>\n",
       "      <td>1.0</td>\n",
       "      <td>Urban</td>\n",
       "    </tr>\n",
       "  </tbody>\n",
       "</table>\n",
       "</div>"
      ],
      "text/plain": [
       "    Loan_ID Gender Married Dependents     Education Self_Employed  \\\n",
       "0  LP001015   Male     Yes          0      Graduate            No   \n",
       "1  LP001022   Male     Yes          1      Graduate            No   \n",
       "2  LP001031   Male     Yes          2      Graduate            No   \n",
       "3  LP001035   Male     Yes          2      Graduate            No   \n",
       "4  LP001051   Male      No          0  Not Graduate            No   \n",
       "\n",
       "   ApplicantIncome  CoapplicantIncome  LoanAmount  Loan_Amount_Term  \\\n",
       "0             5720                  0       110.0             360.0   \n",
       "1             3076               1500       126.0             360.0   \n",
       "2             5000               1800       208.0             360.0   \n",
       "3             2340               2546       100.0             360.0   \n",
       "4             3276                  0        78.0             360.0   \n",
       "\n",
       "   Credit_History Property_Area  \n",
       "0             1.0         Urban  \n",
       "1             1.0         Urban  \n",
       "2             1.0         Urban  \n",
       "3             NaN         Urban  \n",
       "4             1.0         Urban  "
      ]
     },
     "execution_count": 11,
     "metadata": {},
     "output_type": "execute_result"
    }
   ],
   "source": [
    "test.head()"
   ]
  },
  {
   "cell_type": "code",
   "execution_count": 12,
   "metadata": {
    "execution": {
     "iopub.execute_input": "2022-03-06T11:21:25.461888Z",
     "iopub.status.busy": "2022-03-06T11:21:25.461582Z",
     "iopub.status.idle": "2022-03-06T11:21:25.476969Z",
     "shell.execute_reply": "2022-03-06T11:21:25.476023Z",
     "shell.execute_reply.started": "2022-03-06T11:21:25.461833Z"
    }
   },
   "outputs": [
    {
     "name": "stdout",
     "output_type": "stream",
     "text": [
      "<class 'pandas.core.frame.DataFrame'>\n",
      "RangeIndex: 367 entries, 0 to 366\n",
      "Data columns (total 12 columns):\n",
      " #   Column             Non-Null Count  Dtype  \n",
      "---  ------             --------------  -----  \n",
      " 0   Loan_ID            367 non-null    object \n",
      " 1   Gender             356 non-null    object \n",
      " 2   Married            367 non-null    object \n",
      " 3   Dependents         357 non-null    object \n",
      " 4   Education          367 non-null    object \n",
      " 5   Self_Employed      344 non-null    object \n",
      " 6   ApplicantIncome    367 non-null    int64  \n",
      " 7   CoapplicantIncome  367 non-null    int64  \n",
      " 8   LoanAmount         362 non-null    float64\n",
      " 9   Loan_Amount_Term   361 non-null    float64\n",
      " 10  Credit_History     338 non-null    float64\n",
      " 11  Property_Area      367 non-null    object \n",
      "dtypes: float64(3), int64(2), object(7)\n",
      "memory usage: 34.5+ KB\n"
     ]
    }
   ],
   "source": [
    "test.info()"
   ]
  },
  {
   "cell_type": "markdown",
   "metadata": {},
   "source": [
    "### Viewing no of null data in each feature of the test dataset"
   ]
  },
  {
   "cell_type": "code",
   "execution_count": 13,
   "metadata": {
    "execution": {
     "iopub.execute_input": "2022-03-06T11:21:25.480471Z",
     "iopub.status.busy": "2022-03-06T11:21:25.479775Z",
     "iopub.status.idle": "2022-03-06T11:21:25.495714Z",
     "shell.execute_reply": "2022-03-06T11:21:25.494856Z",
     "shell.execute_reply.started": "2022-03-06T11:21:25.480434Z"
    }
   },
   "outputs": [
    {
     "data": {
      "text/plain": [
       "Loan_ID               0\n",
       "Gender               11\n",
       "Married               0\n",
       "Dependents           10\n",
       "Education             0\n",
       "Self_Employed        23\n",
       "ApplicantIncome       0\n",
       "CoapplicantIncome     0\n",
       "LoanAmount            5\n",
       "Loan_Amount_Term      6\n",
       "Credit_History       29\n",
       "Property_Area         0\n",
       "dtype: int64"
      ]
     },
     "execution_count": 13,
     "metadata": {},
     "output_type": "execute_result"
    }
   ],
   "source": [
    "test.isnull().sum()"
   ]
  },
  {
   "cell_type": "markdown",
   "metadata": {},
   "source": [
    "### Counting frequency of categories for each categorical features"
   ]
  },
  {
   "cell_type": "code",
   "execution_count": 14,
   "metadata": {
    "execution": {
     "iopub.execute_input": "2022-03-06T11:21:25.498077Z",
     "iopub.status.busy": "2022-03-06T11:21:25.49775Z",
     "iopub.status.idle": "2022-03-06T11:21:25.520919Z",
     "shell.execute_reply": "2022-03-06T11:21:25.520191Z",
     "shell.execute_reply.started": "2022-03-06T11:21:25.498043Z"
    }
   },
   "outputs": [
    {
     "name": "stdout",
     "output_type": "stream",
     "text": [
      "\n",
      "Frequency of Categories for variable Gender\n",
      "Male      489\n",
      "Female    112\n",
      "Name: Gender, dtype: int64\n",
      "\n",
      "Frequency of Categories for variable Married\n",
      "Yes    398\n",
      "No     213\n",
      "Name: Married, dtype: int64\n",
      "\n",
      "Frequency of Categories for variable Dependents\n",
      "0     345\n",
      "1     102\n",
      "2     101\n",
      "3+     51\n",
      "Name: Dependents, dtype: int64\n",
      "\n",
      "Frequency of Categories for variable Education\n",
      "Graduate        480\n",
      "Not Graduate    134\n",
      "Name: Education, dtype: int64\n",
      "\n",
      "Frequency of Categories for variable Self_Employed\n",
      "No     500\n",
      "Yes     82\n",
      "Name: Self_Employed, dtype: int64\n",
      "\n",
      "Frequency of Categories for variable Property_Area\n",
      "Semiurban    233\n",
      "Urban        202\n",
      "Rural        179\n",
      "Name: Property_Area, dtype: int64\n"
     ]
    }
   ],
   "source": [
    "data = [train,test]\n",
    "for dataset in data:\n",
    "    #Filter categorical variables\n",
    "    categorical_columns = [x for x in dataset.dtypes.index if dataset.dtypes[x]=='object']\n",
    "    # Exclude ID cols and source:\n",
    "    categorical_columns = [x for x in categorical_columns if x not in ['Loan_ID' ]]\n",
    "    #Print frequency of categories\n",
    "    \n",
    "for col in categorical_columns:\n",
    "    print ('\\nFrequency of Categories for variable %s'%col)\n",
    "    print (train[col].value_counts())"
   ]
  },
  {
   "cell_type": "markdown",
   "metadata": {},
   "source": [
    "#### Plotting No. of Males vs No. of Females"
   ]
  },
  {
   "cell_type": "code",
   "execution_count": 15,
   "metadata": {
    "execution": {
     "iopub.execute_input": "2022-03-06T11:21:25.522511Z",
     "iopub.status.busy": "2022-03-06T11:21:25.522132Z",
     "iopub.status.idle": "2022-03-06T11:21:25.699016Z",
     "shell.execute_reply": "2022-03-06T11:21:25.697824Z",
     "shell.execute_reply.started": "2022-03-06T11:21:25.522479Z"
    }
   },
   "outputs": [
    {
     "data": {
      "text/plain": [
       "<AxesSubplot:xlabel='Gender', ylabel='count'>"
      ]
     },
     "execution_count": 15,
     "metadata": {},
     "output_type": "execute_result"
    },
    {
     "data": {
      "image/png": "[encoded data removed]",
      "text/plain": [
       "<Figure size 432x288 with 1 Axes>"
      ]
     },
     "metadata": {
      "needs_background": "light"
     },
     "output_type": "display_data"
    }
   ],
   "source": [
    "sns.countplot(train['Gender'])"
   ]
  },
  {
   "cell_type": "markdown",
   "metadata": {},
   "source": [
    "#### Approval of loans between Males & Females"
   ]
  },
  {
   "cell_type": "code",
   "execution_count": 16,
   "metadata": {
    "execution": {
     "iopub.execute_input": "2022-03-06T11:21:25.701773Z",
     "iopub.status.busy": "2022-03-06T11:21:25.701219Z",
     "iopub.status.idle": "2022-03-06T11:21:25.761627Z",
     "shell.execute_reply": "2022-03-06T11:21:25.760999Z",
     "shell.execute_reply.started": "2022-03-06T11:21:25.701722Z"
    }
   },
   "outputs": [
    {
     "data": {
      "text/html": [
       "<div>\n",
       "<style scoped>\n",
       "    .dataframe tbody tr th:only-of-type {\n",
       "        vertical-align: middle;\n",
       "    }\n",
       "\n",
       "    .dataframe tbody tr th {\n",
       "        vertical-align: top;\n",
       "    }\n",
       "\n",
       "    .dataframe thead th {\n",
       "        text-align: right;\n",
       "    }\n",
       "</style>\n",
       "<table border=\"1\" class=\"dataframe\">\n",
       "  <thead>\n",
       "    <tr style=\"text-align: right;\">\n",
       "      <th>Loan_Status</th>\n",
       "      <th>N</th>\n",
       "      <th>Y</th>\n",
       "      <th>All</th>\n",
       "    </tr>\n",
       "    <tr>\n",
       "      <th>Gender</th>\n",
       "      <th></th>\n",
       "      <th></th>\n",
       "      <th></th>\n",
       "    </tr>\n",
       "  </thead>\n",
       "  <tbody>\n",
       "    <tr>\n",
       "      <th>Female</th>\n",
       "      <td>37</td>\n",
       "      <td>75</td>\n",
       "      <td>112</td>\n",
       "    </tr>\n",
       "    <tr>\n",
       "      <th>Male</th>\n",
       "      <td>150</td>\n",
       "      <td>339</td>\n",
       "      <td>489</td>\n",
       "    </tr>\n",
       "    <tr>\n",
       "      <th>All</th>\n",
       "      <td>187</td>\n",
       "      <td>414</td>\n",
       "      <td>601</td>\n",
       "    </tr>\n",
       "  </tbody>\n",
       "</table>\n",
       "</div>"
      ],
      "text/plain": [
       "Loan_Status    N    Y  All\n",
       "Gender                    \n",
       "Female        37   75  112\n",
       "Male         150  339  489\n",
       "All          187  414  601"
      ]
     },
     "execution_count": 16,
     "metadata": {},
     "output_type": "execute_result"
    }
   ],
   "source": [
    "pd.crosstab(train.Gender, train.Loan_Status, margins = True)"
   ]
  },
  {
   "cell_type": "markdown",
   "metadata": {},
   "source": [
    "> The male are in large number as compared to female applicants."
   ]
  },
  {
   "cell_type": "markdown",
   "metadata": {},
   "source": [
    "### Filling up NAN values of Gender and Converting categorial variables(Male,Female) to numerical variables(0,1)"
   ]
  },
  {
   "cell_type": "code",
   "execution_count": 17,
   "metadata": {
    "execution": {
     "iopub.execute_input": "2022-03-06T11:21:25.763257Z",
     "iopub.status.busy": "2022-03-06T11:21:25.762901Z",
     "iopub.status.idle": "2022-03-06T11:21:25.779401Z",
     "shell.execute_reply": "2022-03-06T11:21:25.778657Z",
     "shell.execute_reply.started": "2022-03-06T11:21:25.763226Z"
    }
   },
   "outputs": [],
   "source": [
    "train.Gender = train.Gender.fillna(train.Gender.mode())\n",
    "test.Gender = test.Gender.fillna(test.Gender.mode())\n",
    "\n",
    "sex = pd.get_dummies(train['Gender'] , drop_first = True )\n",
    "train.drop(['Gender'], axis = 1 , inplace =True)\n",
    "train = pd.concat([train , sex ] , axis = 1)\n",
    "\n",
    "sex = pd.get_dummies(test['Gender'] , drop_first = True )\n",
    "test.drop(['Gender'], axis = 1 , inplace =True)\n",
    "test = pd.concat([test , sex ] , axis = 1)"
   ]
  },
  {
   "cell_type": "markdown",
   "metadata": {},
   "source": [
    "### Plotting No. of Dependants (Size of family) in each household"
   ]
  },
  {
   "cell_type": "code",
   "execution_count": 20,
   "metadata": {
    "execution": {
     "iopub.execute_input": "2022-03-06T11:21:25.781104Z",
     "iopub.status.busy": "2022-03-06T11:21:25.780735Z",
     "iopub.status.idle": "2022-03-06T11:21:25.960883Z",
     "shell.execute_reply": "2022-03-06T11:21:25.960002Z",
     "shell.execute_reply.started": "2022-03-06T11:21:25.781075Z"
    }
   },
   "outputs": [
    {
     "data": {
      "image/png": "[encoded data removed]",
      "text/plain": [
       "<Figure size 432x432 with 1 Axes>"
      ]
     },
     "metadata": {},
     "output_type": "display_data"
    }
   ],
   "source": [
    "plt.figure(figsize=(6,6))\n",
    "labels = ['0' , '1', '2' , '3+']\n",
    "explode = (0.05, 0, 0, 0)\n",
    "size = [345 , 102 , 101 , 51]\n",
    "\n",
    "plt.pie(size, explode=explode, labels=labels,\n",
    "        autopct='%1.1f%%', shadow = True, startangle = 90)\n",
    "plt.axis('equal')\n",
    "plt.show()"
   ]
  },
  {
   "cell_type": "code",
   "execution_count": 23,
   "metadata": {
    "execution": {
     "iopub.execute_input": "2022-03-06T11:21:25.962771Z",
     "iopub.status.busy": "2022-03-06T11:21:25.962305Z",
     "iopub.status.idle": "2022-03-06T11:21:25.975413Z",
     "shell.execute_reply": "2022-03-06T11:21:25.974502Z",
     "shell.execute_reply.started": "2022-03-06T11:21:25.962723Z"
    }
   },
   "outputs": [
    {
     "data": {
      "text/plain": [
       "0     345\n",
       "1     102\n",
       "2     101\n",
       "3+     51\n",
       "Name: Dependents, dtype: int64"
      ]
     },
     "execution_count": 23,
     "metadata": {},
     "output_type": "execute_result"
    }
   ],
   "source": [
    "train.Dependents.value_counts()"
   ]
  },
  {
   "cell_type": "markdown",
   "metadata": {},
   "source": [
    "### Approval of loans between different sizes of families"
   ]
  },
  {
   "cell_type": "code",
   "execution_count": 24,
   "metadata": {
    "execution": {
     "iopub.execute_input": "2022-03-06T11:21:25.977855Z",
     "iopub.status.busy": "2022-03-06T11:21:25.977336Z",
     "iopub.status.idle": "2022-03-06T11:21:26.041436Z",
     "shell.execute_reply": "2022-03-06T11:21:26.040567Z",
     "shell.execute_reply.started": "2022-03-06T11:21:25.977787Z"
    }
   },
   "outputs": [
    {
     "data": {
      "text/html": [
       "<div>\n",
       "<style scoped>\n",
       "    .dataframe tbody tr th:only-of-type {\n",
       "        vertical-align: middle;\n",
       "    }\n",
       "\n",
       "    .dataframe tbody tr th {\n",
       "        vertical-align: top;\n",
       "    }\n",
       "\n",
       "    .dataframe thead th {\n",
       "        text-align: right;\n",
       "    }\n",
       "</style>\n",
       "<table border=\"1\" class=\"dataframe\">\n",
       "  <thead>\n",
       "    <tr style=\"text-align: right;\">\n",
       "      <th>Loan_Status</th>\n",
       "      <th>N</th>\n",
       "      <th>Y</th>\n",
       "      <th>All</th>\n",
       "    </tr>\n",
       "    <tr>\n",
       "      <th>Dependents</th>\n",
       "      <th></th>\n",
       "      <th></th>\n",
       "      <th></th>\n",
       "    </tr>\n",
       "  </thead>\n",
       "  <tbody>\n",
       "    <tr>\n",
       "      <th>0</th>\n",
       "      <td>107</td>\n",
       "      <td>238</td>\n",
       "      <td>345</td>\n",
       "    </tr>\n",
       "    <tr>\n",
       "      <th>1</th>\n",
       "      <td>36</td>\n",
       "      <td>66</td>\n",
       "      <td>102</td>\n",
       "    </tr>\n",
       "    <tr>\n",
       "      <th>2</th>\n",
       "      <td>25</td>\n",
       "      <td>76</td>\n",
       "      <td>101</td>\n",
       "    </tr>\n",
       "    <tr>\n",
       "      <th>3+</th>\n",
       "      <td>18</td>\n",
       "      <td>33</td>\n",
       "      <td>51</td>\n",
       "    </tr>\n",
       "    <tr>\n",
       "      <th>All</th>\n",
       "      <td>186</td>\n",
       "      <td>413</td>\n",
       "      <td>599</td>\n",
       "    </tr>\n",
       "  </tbody>\n",
       "</table>\n",
       "</div>"
      ],
      "text/plain": [
       "Loan_Status    N    Y  All\n",
       "Dependents                \n",
       "0            107  238  345\n",
       "1             36   66  102\n",
       "2             25   76  101\n",
       "3+            18   33   51\n",
       "All          186  413  599"
      ]
     },
     "execution_count": 24,
     "metadata": {},
     "output_type": "execute_result"
    }
   ],
   "source": [
    "pd.crosstab(train.Dependents , train.Loan_Status, margins = True)"
   ]
  },
  {
   "cell_type": "markdown",
   "metadata": {},
   "source": [
    "> The applicants with highest number of dependants are least in number whereas applicants with no dependance are greatest among these."
   ]
  },
  {
   "cell_type": "markdown",
   "metadata": {},
   "source": [
    "### Filling up NAN values of Dependents and Converting categorial variables(1,2,3+) to numerical variables(1,2,3)"
   ]
  },
  {
   "cell_type": "code",
   "execution_count": 25,
   "metadata": {
    "execution": {
     "iopub.execute_input": "2022-03-06T11:21:26.043564Z",
     "iopub.status.busy": "2022-03-06T11:21:26.043084Z",
     "iopub.status.idle": "2022-03-06T11:21:26.056088Z",
     "shell.execute_reply": "2022-03-06T11:21:26.05518Z",
     "shell.execute_reply.started": "2022-03-06T11:21:26.043517Z"
    }
   },
   "outputs": [],
   "source": [
    "train.Dependents = train.Dependents.fillna(\"0\")\n",
    "test.Dependents = test.Dependents.fillna(\"0\")\n",
    "\n",
    "rpl = {'0':'0', '1':'1', '2':'2', '3+':'3'}\n",
    "\n",
    "train.Dependents = train.Dependents.replace(rpl).astype(int)\n",
    "test.Dependents = test.Dependents.replace(rpl).astype(int)"
   ]
  },
  {
   "cell_type": "markdown",
   "metadata": {},
   "source": [
    "### Plotting No. of people with vs without Credit History"
   ]
  },
  {
   "cell_type": "code",
   "execution_count": 26,
   "metadata": {
    "execution": {
     "iopub.execute_input": "2022-03-06T11:21:26.058408Z",
     "iopub.status.busy": "2022-03-06T11:21:26.058032Z",
     "iopub.status.idle": "2022-03-06T11:21:26.234582Z",
     "shell.execute_reply": "2022-03-06T11:21:26.23386Z",
     "shell.execute_reply.started": "2022-03-06T11:21:26.058375Z"
    }
   },
   "outputs": [
    {
     "data": {
      "text/plain": [
       "<AxesSubplot:xlabel='Credit_History', ylabel='count'>"
      ]
     },
     "execution_count": 26,
     "metadata": {},
     "output_type": "execute_result"
    },
    {
     "data": {
      "image/png": "[encoded data removed]",
      "text/plain": [
       "<Figure size 432x288 with 1 Axes>"
      ]
     },
     "metadata": {
      "needs_background": "light"
     },
     "output_type": "display_data"
    }
   ],
   "source": [
    "sns.countplot(train['Credit_History'])"
   ]
  },
  {
   "cell_type": "markdown",
   "metadata": {},
   "source": [
    "### Approval of loans people those who have Credit History and those who don't"
   ]
  },
  {
   "cell_type": "code",
   "execution_count": 27,
   "metadata": {
    "execution": {
     "iopub.execute_input": "2022-03-06T11:21:26.237049Z",
     "iopub.status.busy": "2022-03-06T11:21:26.236455Z",
     "iopub.status.idle": "2022-03-06T11:21:26.280578Z",
     "shell.execute_reply": "2022-03-06T11:21:26.279657Z",
     "shell.execute_reply.started": "2022-03-06T11:21:26.237Z"
    }
   },
   "outputs": [
    {
     "data": {
      "text/html": [
       "<div>\n",
       "<style scoped>\n",
       "    .dataframe tbody tr th:only-of-type {\n",
       "        vertical-align: middle;\n",
       "    }\n",
       "\n",
       "    .dataframe tbody tr th {\n",
       "        vertical-align: top;\n",
       "    }\n",
       "\n",
       "    .dataframe thead th {\n",
       "        text-align: right;\n",
       "    }\n",
       "</style>\n",
       "<table border=\"1\" class=\"dataframe\">\n",
       "  <thead>\n",
       "    <tr style=\"text-align: right;\">\n",
       "      <th>Loan_Status</th>\n",
       "      <th>N</th>\n",
       "      <th>Y</th>\n",
       "      <th>All</th>\n",
       "    </tr>\n",
       "    <tr>\n",
       "      <th>Credit_History</th>\n",
       "      <th></th>\n",
       "      <th></th>\n",
       "      <th></th>\n",
       "    </tr>\n",
       "  </thead>\n",
       "  <tbody>\n",
       "    <tr>\n",
       "      <th>0.0</th>\n",
       "      <td>82</td>\n",
       "      <td>7</td>\n",
       "      <td>89</td>\n",
       "    </tr>\n",
       "    <tr>\n",
       "      <th>1.0</th>\n",
       "      <td>97</td>\n",
       "      <td>378</td>\n",
       "      <td>475</td>\n",
       "    </tr>\n",
       "    <tr>\n",
       "      <th>All</th>\n",
       "      <td>179</td>\n",
       "      <td>385</td>\n",
       "      <td>564</td>\n",
       "    </tr>\n",
       "  </tbody>\n",
       "</table>\n",
       "</div>"
      ],
      "text/plain": [
       "Loan_Status       N    Y  All\n",
       "Credit_History               \n",
       "0.0              82    7   89\n",
       "1.0              97  378  475\n",
       "All             179  385  564"
      ]
     },
     "execution_count": 27,
     "metadata": {},
     "output_type": "execute_result"
    }
   ],
   "source": [
    "pd.crosstab(train.Credit_History , train.Loan_Status, margins = True)"
   ]
  },
  {
   "cell_type": "markdown",
   "metadata": {},
   "source": [
    "### Filling up NAN values of Credit history by taking the mode"
   ]
  },
  {
   "cell_type": "code",
   "execution_count": 28,
   "metadata": {
    "execution": {
     "iopub.execute_input": "2022-03-06T11:21:26.28298Z",
     "iopub.status.busy": "2022-03-06T11:21:26.282425Z",
     "iopub.status.idle": "2022-03-06T11:21:26.292895Z",
     "shell.execute_reply": "2022-03-06T11:21:26.291857Z",
     "shell.execute_reply.started": "2022-03-06T11:21:26.282934Z"
    }
   },
   "outputs": [],
   "source": [
    "train.Credit_History = train.Credit_History.fillna(train.Credit_History.mode()[0])\n",
    "test.Credit_History  = test.Credit_History.fillna(test.Credit_History.mode()[0])"
   ]
  },
  {
   "cell_type": "markdown",
   "metadata": {},
   "source": [
    "### Plotting No. of people who are Self-employed vs who aren't"
   ]
  },
  {
   "cell_type": "code",
   "execution_count": 29,
   "metadata": {
    "execution": {
     "iopub.execute_input": "2022-03-06T11:21:26.296444Z",
     "iopub.status.busy": "2022-03-06T11:21:26.295706Z",
     "iopub.status.idle": "2022-03-06T11:21:26.478958Z",
     "shell.execute_reply": "2022-03-06T11:21:26.477981Z",
     "shell.execute_reply.started": "2022-03-06T11:21:26.296401Z"
    },
    "scrolled": true
   },
   "outputs": [
    {
     "data": {
      "text/plain": [
       "<AxesSubplot:xlabel='Self_Employed', ylabel='count'>"
      ]
     },
     "execution_count": 29,
     "metadata": {},
     "output_type": "execute_result"
    },
    {
     "data": {
      "image/png": "[encoded data removed]",
      "text/plain": [
       "<Figure size 432x288 with 1 Axes>"
      ]
     },
     "metadata": {
      "needs_background": "light"
     },
     "output_type": "display_data"
    }
   ],
   "source": [
    "sns.countplot(train['Self_Employed'])"
   ]
  },
  {
   "cell_type": "markdown",
   "metadata": {},
   "source": [
    "### Approval of loans between people who are Self-employed & who aren't"
   ]
  },
  {
   "cell_type": "code",
   "execution_count": 30,
   "metadata": {
    "execution": {
     "iopub.execute_input": "2022-03-06T11:21:26.480496Z",
     "iopub.status.busy": "2022-03-06T11:21:26.480268Z",
     "iopub.status.idle": "2022-03-06T11:21:26.527969Z",
     "shell.execute_reply": "2022-03-06T11:21:26.526886Z",
     "shell.execute_reply.started": "2022-03-06T11:21:26.480468Z"
    }
   },
   "outputs": [
    {
     "data": {
      "text/html": [
       "<div>\n",
       "<style scoped>\n",
       "    .dataframe tbody tr th:only-of-type {\n",
       "        vertical-align: middle;\n",
       "    }\n",
       "\n",
       "    .dataframe tbody tr th {\n",
       "        vertical-align: top;\n",
       "    }\n",
       "\n",
       "    .dataframe thead th {\n",
       "        text-align: right;\n",
       "    }\n",
       "</style>\n",
       "<table border=\"1\" class=\"dataframe\">\n",
       "  <thead>\n",
       "    <tr style=\"text-align: right;\">\n",
       "      <th>Loan_Status</th>\n",
       "      <th>N</th>\n",
       "      <th>Y</th>\n",
       "      <th>All</th>\n",
       "    </tr>\n",
       "    <tr>\n",
       "      <th>Self_Employed</th>\n",
       "      <th></th>\n",
       "      <th></th>\n",
       "      <th></th>\n",
       "    </tr>\n",
       "  </thead>\n",
       "  <tbody>\n",
       "    <tr>\n",
       "      <th>No</th>\n",
       "      <td>157</td>\n",
       "      <td>343</td>\n",
       "      <td>500</td>\n",
       "    </tr>\n",
       "    <tr>\n",
       "      <th>Yes</th>\n",
       "      <td>26</td>\n",
       "      <td>56</td>\n",
       "      <td>82</td>\n",
       "    </tr>\n",
       "    <tr>\n",
       "      <th>All</th>\n",
       "      <td>183</td>\n",
       "      <td>399</td>\n",
       "      <td>582</td>\n",
       "    </tr>\n",
       "  </tbody>\n",
       "</table>\n",
       "</div>"
      ],
      "text/plain": [
       "Loan_Status      N    Y  All\n",
       "Self_Employed               \n",
       "No             157  343  500\n",
       "Yes             26   56   82\n",
       "All            183  399  582"
      ]
     },
     "execution_count": 30,
     "metadata": {},
     "output_type": "execute_result"
    }
   ],
   "source": [
    "pd.crosstab(train.Self_Employed , train.Loan_Status,margins = True)"
   ]
  },
  {
   "cell_type": "markdown",
   "metadata": {},
   "source": [
    "### Filling NAN values and Converting categorial variables(Yes,No) to numerical variables(1,0)"
   ]
  },
  {
   "cell_type": "code",
   "execution_count": 31,
   "metadata": {
    "execution": {
     "iopub.execute_input": "2022-03-06T11:21:26.529522Z",
     "iopub.status.busy": "2022-03-06T11:21:26.529264Z",
     "iopub.status.idle": "2022-03-06T11:21:26.550691Z",
     "shell.execute_reply": "2022-03-06T11:21:26.549969Z",
     "shell.execute_reply.started": "2022-03-06T11:21:26.529491Z"
    }
   },
   "outputs": [],
   "source": [
    "train.Self_Employed = train.Self_Employed.fillna(train.Self_Employed.mode())\n",
    "test.Self_Employed = test.Self_Employed.fillna(test.Self_Employed.mode())\n",
    "\n",
    "self_Employed = pd.get_dummies(train['Self_Employed'] ,prefix = 'employed' ,drop_first = True )\n",
    "train.drop(['Self_Employed'], axis = 1 , inplace =True)\n",
    "train = pd.concat([train , self_Employed ] , axis = 1)\n",
    "\n",
    "self_Employed = pd.get_dummies(test['Self_Employed'] , prefix = 'employed' ,drop_first = True )\n",
    "test.drop(['Self_Employed'], axis = 1 , inplace =True)\n",
    "test = pd.concat([test , self_Employed ] , axis = 1)"
   ]
  },
  {
   "cell_type": "markdown",
   "metadata": {},
   "source": [
    "### Plotting No. of Married people vs Unmarried people"
   ]
  },
  {
   "cell_type": "code",
   "execution_count": 32,
   "metadata": {
    "execution": {
     "iopub.execute_input": "2022-03-06T11:21:26.552258Z",
     "iopub.status.busy": "2022-03-06T11:21:26.55184Z",
     "iopub.status.idle": "2022-03-06T11:21:26.751447Z",
     "shell.execute_reply": "2022-03-06T11:21:26.75085Z",
     "shell.execute_reply.started": "2022-03-06T11:21:26.552221Z"
    }
   },
   "outputs": [
    {
     "data": {
      "text/plain": [
       "<AxesSubplot:xlabel='Married', ylabel='count'>"
      ]
     },
     "execution_count": 32,
     "metadata": {},
     "output_type": "execute_result"
    },
    {
     "data": {
      "image/png": "[encoded data removed]",
      "text/plain": [
       "<Figure size 432x288 with 1 Axes>"
      ]
     },
     "metadata": {
      "needs_background": "light"
     },
     "output_type": "display_data"
    }
   ],
   "source": [
    "sns.countplot(train.Married)"
   ]
  },
  {
   "cell_type": "markdown",
   "metadata": {},
   "source": [
    "### Approval of loans between Married and Unmarried people"
   ]
  },
  {
   "cell_type": "code",
   "execution_count": 33,
   "metadata": {
    "execution": {
     "iopub.execute_input": "2022-03-06T11:21:26.752948Z",
     "iopub.status.busy": "2022-03-06T11:21:26.752595Z",
     "iopub.status.idle": "2022-03-06T11:21:26.797249Z",
     "shell.execute_reply": "2022-03-06T11:21:26.796232Z",
     "shell.execute_reply.started": "2022-03-06T11:21:26.752919Z"
    }
   },
   "outputs": [
    {
     "data": {
      "text/html": [
       "<div>\n",
       "<style scoped>\n",
       "    .dataframe tbody tr th:only-of-type {\n",
       "        vertical-align: middle;\n",
       "    }\n",
       "\n",
       "    .dataframe tbody tr th {\n",
       "        vertical-align: top;\n",
       "    }\n",
       "\n",
       "    .dataframe thead th {\n",
       "        text-align: right;\n",
       "    }\n",
       "</style>\n",
       "<table border=\"1\" class=\"dataframe\">\n",
       "  <thead>\n",
       "    <tr style=\"text-align: right;\">\n",
       "      <th>Loan_Status</th>\n",
       "      <th>N</th>\n",
       "      <th>Y</th>\n",
       "      <th>All</th>\n",
       "    </tr>\n",
       "    <tr>\n",
       "      <th>Married</th>\n",
       "      <th></th>\n",
       "      <th></th>\n",
       "      <th></th>\n",
       "    </tr>\n",
       "  </thead>\n",
       "  <tbody>\n",
       "    <tr>\n",
       "      <th>No</th>\n",
       "      <td>79</td>\n",
       "      <td>134</td>\n",
       "      <td>213</td>\n",
       "    </tr>\n",
       "    <tr>\n",
       "      <th>Yes</th>\n",
       "      <td>113</td>\n",
       "      <td>285</td>\n",
       "      <td>398</td>\n",
       "    </tr>\n",
       "    <tr>\n",
       "      <th>All</th>\n",
       "      <td>192</td>\n",
       "      <td>419</td>\n",
       "      <td>611</td>\n",
       "    </tr>\n",
       "  </tbody>\n",
       "</table>\n",
       "</div>"
      ],
      "text/plain": [
       "Loan_Status    N    Y  All\n",
       "Married                   \n",
       "No            79  134  213\n",
       "Yes          113  285  398\n",
       "All          192  419  611"
      ]
     },
     "execution_count": 33,
     "metadata": {},
     "output_type": "execute_result"
    }
   ],
   "source": [
    "pd.crosstab(train.Married , train.Loan_Status,margins = True)"
   ]
  },
  {
   "cell_type": "markdown",
   "metadata": {},
   "source": [
    "### Filling NAN values and Converting categorial variables(Yes,No) to numerical variables(1,0)"
   ]
  },
  {
   "cell_type": "code",
   "execution_count": 34,
   "metadata": {
    "execution": {
     "iopub.execute_input": "2022-03-06T11:21:26.798731Z",
     "iopub.status.busy": "2022-03-06T11:21:26.798484Z",
     "iopub.status.idle": "2022-03-06T11:21:26.820282Z",
     "shell.execute_reply": "2022-03-06T11:21:26.819294Z",
     "shell.execute_reply.started": "2022-03-06T11:21:26.7987Z"
    }
   },
   "outputs": [],
   "source": [
    "train.Married = train.Married.fillna(train.Married.mode())\n",
    "test.Married = test.Married.fillna(test.Married.mode())\n",
    "\n",
    "married = pd.get_dummies(train['Married'] , prefix = 'married',drop_first = True )\n",
    "train.drop(['Married'], axis = 1 , inplace =True)\n",
    "train = pd.concat([train , married ] , axis = 1)\n",
    "\n",
    "married = pd.get_dummies(test['Married'] , prefix = 'married', drop_first = True )\n",
    "test.drop(['Married'], axis = 1 , inplace =True)\n",
    "test = pd.concat([test , married ] , axis = 1)"
   ]
  },
  {
   "cell_type": "markdown",
   "metadata": {},
   "source": [
    "### Filling up NAN values of Loan Amount Term"
   ]
  },
  {
   "cell_type": "code",
   "execution_count": 35,
   "metadata": {
    "execution": {
     "iopub.execute_input": "2022-03-06T11:21:26.825507Z",
     "iopub.status.busy": "2022-03-06T11:21:26.824903Z",
     "iopub.status.idle": "2022-03-06T11:21:26.837423Z",
     "shell.execute_reply": "2022-03-06T11:21:26.836323Z",
     "shell.execute_reply.started": "2022-03-06T11:21:26.825467Z"
    }
   },
   "outputs": [],
   "source": [
    "train.drop(['Loan_Amount_Term'], axis = 1 , inplace =True)\n",
    "test.drop(['Loan_Amount_Term'], axis = 1 , inplace =True)\n",
    "\n",
    "train.LoanAmount = train.LoanAmount.fillna(train.LoanAmount.mean()).astype(int)\n",
    "test.LoanAmount = test.LoanAmount.fillna(test.LoanAmount.mean()).astype(int)"
   ]
  },
  {
   "cell_type": "code",
   "execution_count": 36,
   "metadata": {
    "execution": {
     "iopub.execute_input": "2022-03-06T11:21:26.840024Z",
     "iopub.status.busy": "2022-03-06T11:21:26.839667Z",
     "iopub.status.idle": "2022-03-06T11:21:27.168126Z",
     "shell.execute_reply": "2022-03-06T11:21:27.167242Z",
     "shell.execute_reply.started": "2022-03-06T11:21:26.839977Z"
    }
   },
   "outputs": [
    {
     "data": {
      "text/plain": [
       "<AxesSubplot:xlabel='LoanAmount', ylabel='Density'>"
      ]
     },
     "execution_count": 36,
     "metadata": {},
     "output_type": "execute_result"
    },
    {
     "data": {
      "image/png": "[encoded data removed]",
      "text/plain": [
       "<Figure size 432x288 with 1 Axes>"
      ]
     },
     "metadata": {
      "needs_background": "light"
     },
     "output_type": "display_data"
    }
   ],
   "source": [
    "sns.distplot(train['LoanAmount'])"
   ]
  },
  {
   "cell_type": "markdown",
   "metadata": {},
   "source": [
    "> We observe no outliers in the continuous variable Loan Amount"
   ]
  },
  {
   "cell_type": "markdown",
   "metadata": {},
   "source": [
    "### Plotting Graduates vs Non-Graduates"
   ]
  },
  {
   "cell_type": "code",
   "execution_count": 37,
   "metadata": {
    "execution": {
     "iopub.execute_input": "2022-03-06T11:21:27.169557Z",
     "iopub.status.busy": "2022-03-06T11:21:27.169333Z",
     "iopub.status.idle": "2022-03-06T11:21:27.350843Z",
     "shell.execute_reply": "2022-03-06T11:21:27.349888Z",
     "shell.execute_reply.started": "2022-03-06T11:21:27.169528Z"
    }
   },
   "outputs": [
    {
     "data": {
      "text/plain": [
       "<AxesSubplot:xlabel='Education', ylabel='count'>"
      ]
     },
     "execution_count": 37,
     "metadata": {},
     "output_type": "execute_result"
    },
    {
     "data": {
      "image/png": "[encoded data removed]",
      "text/plain": [
       "<Figure size 432x288 with 1 Axes>"
      ]
     },
     "metadata": {
      "needs_background": "light"
     },
     "output_type": "display_data"
    }
   ],
   "source": [
    "sns.countplot(train.Education)"
   ]
  },
  {
   "cell_type": "markdown",
   "metadata": {},
   "source": [
    "### Converting categorial variables to numerical variables"
   ]
  },
  {
   "cell_type": "code",
   "execution_count": 38,
   "metadata": {
    "execution": {
     "iopub.execute_input": "2022-03-06T11:21:27.35292Z",
     "iopub.status.busy": "2022-03-06T11:21:27.352566Z",
     "iopub.status.idle": "2022-03-06T11:21:27.362124Z",
     "shell.execute_reply": "2022-03-06T11:21:27.361142Z",
     "shell.execute_reply.started": "2022-03-06T11:21:27.352874Z"
    },
    "scrolled": true
   },
   "outputs": [],
   "source": [
    "train['Education'] = train['Education'].map( {'Graduate': 0, 'Not Graduate': 1} ).astype(int)\n",
    "test['Education'] = test['Education'].map( {'Graduate': 0, 'Not Graduate': 1} ).astype(int)"
   ]
  },
  {
   "cell_type": "markdown",
   "metadata": {},
   "source": [
    "### Property Area"
   ]
  },
  {
   "cell_type": "code",
   "execution_count": 39,
   "metadata": {
    "execution": {
     "iopub.execute_input": "2022-03-06T11:21:27.363876Z",
     "iopub.status.busy": "2022-03-06T11:21:27.363606Z",
     "iopub.status.idle": "2022-03-06T11:21:27.548536Z",
     "shell.execute_reply": "2022-03-06T11:21:27.547682Z",
     "shell.execute_reply.started": "2022-03-06T11:21:27.363834Z"
    }
   },
   "outputs": [
    {
     "data": {
      "text/plain": [
       "<AxesSubplot:xlabel='Property_Area', ylabel='count'>"
      ]
     },
     "execution_count": 39,
     "metadata": {},
     "output_type": "execute_result"
    },
    {
     "data": {
      "image/png": "[encoded data removed]",
      "text/plain": [
       "<Figure size 432x288 with 1 Axes>"
      ]
     },
     "metadata": {
      "needs_background": "light"
     },
     "output_type": "display_data"
    }
   ],
   "source": [
    "sns.countplot(train.Property_Area)"
   ]
  },
  {
   "cell_type": "markdown",
   "metadata": {},
   "source": [
    "### Converting categorial variables to numerical variables"
   ]
  },
  {
   "cell_type": "code",
   "execution_count": 40,
   "metadata": {
    "execution": {
     "iopub.execute_input": "2022-03-06T11:21:27.5501Z",
     "iopub.status.busy": "2022-03-06T11:21:27.549844Z",
     "iopub.status.idle": "2022-03-06T11:21:27.561772Z",
     "shell.execute_reply": "2022-03-06T11:21:27.560877Z",
     "shell.execute_reply.started": "2022-03-06T11:21:27.550069Z"
    }
   },
   "outputs": [],
   "source": [
    "train['Property_Area'] = train['Property_Area'].map( {'Urban': 0, 'Semiurban': 1 ,'Rural': 2  } ).astype(int)\n",
    "\n",
    "test.Property_Area = test.Property_Area.fillna(test.Property_Area.mode())\n",
    "test['Property_Area'] = test['Property_Area'].map( {'Urban': 0, 'Semiurban': 1 ,'Rural': 2  } ).astype(int)\n"
   ]
  },
  {
   "cell_type": "markdown",
   "metadata": {},
   "source": [
    "### Plotting Co-Applicant income and Applicant income"
   ]
  },
  {
   "cell_type": "code",
   "execution_count": 41,
   "metadata": {
    "execution": {
     "iopub.execute_input": "2022-03-06T11:21:27.564142Z",
     "iopub.status.busy": "2022-03-06T11:21:27.563265Z",
     "iopub.status.idle": "2022-03-06T11:21:28.019996Z",
     "shell.execute_reply": "2022-03-06T11:21:28.019071Z",
     "shell.execute_reply.started": "2022-03-06T11:21:27.56409Z"
    }
   },
   "outputs": [
    {
     "data": {
      "text/plain": [
       "<AxesSubplot:xlabel='ApplicantIncome', ylabel='Density'>"
      ]
     },
     "execution_count": 41,
     "metadata": {},
     "output_type": "execute_result"
    },
    {
     "data": {
      "image/png": "[encoded data removed]",
      "text/plain": [
       "<Figure size 432x288 with 1 Axes>"
      ]
     },
     "metadata": {
      "needs_background": "light"
     },
     "output_type": "display_data"
    }
   ],
   "source": [
    "sns.distplot(train['ApplicantIncome'])"
   ]
  },
  {
   "cell_type": "code",
   "execution_count": 42,
   "metadata": {
    "execution": {
     "iopub.execute_input": "2022-03-06T11:21:28.021885Z",
     "iopub.status.busy": "2022-03-06T11:21:28.02146Z",
     "iopub.status.idle": "2022-03-06T11:21:28.359369Z",
     "shell.execute_reply": "2022-03-06T11:21:28.35869Z",
     "shell.execute_reply.started": "2022-03-06T11:21:28.021835Z"
    }
   },
   "outputs": [
    {
     "data": {
      "text/plain": [
       "<AxesSubplot:xlabel='CoapplicantIncome', ylabel='Density'>"
      ]
     },
     "execution_count": 42,
     "metadata": {},
     "output_type": "execute_result"
    },
    {
     "data": {
      "image/png": "[encoded data removed]",
      "text/plain": [
       "<Figure size 432x288 with 1 Axes>"
      ]
     },
     "metadata": {
      "needs_background": "light"
     },
     "output_type": "display_data"
    }
   ],
   "source": [
    "sns.distplot(train['CoapplicantIncome'])"
   ]
  },
  {
   "cell_type": "markdown",
   "metadata": {},
   "source": [
    "### Target Variable : Loan Status (Converting categorial variables to numerical variables)"
   ]
  },
  {
   "cell_type": "code",
   "execution_count": 43,
   "metadata": {
    "execution": {
     "iopub.execute_input": "2022-03-06T11:21:28.361153Z",
     "iopub.status.busy": "2022-03-06T11:21:28.360468Z",
     "iopub.status.idle": "2022-03-06T11:21:28.367692Z",
     "shell.execute_reply": "2022-03-06T11:21:28.366717Z",
     "shell.execute_reply.started": "2022-03-06T11:21:28.361113Z"
    }
   },
   "outputs": [],
   "source": [
    "train['Loan_Status'] = train['Loan_Status'].map( {'N': 0, 'Y': 1 } ).astype(int)"
   ]
  },
  {
   "cell_type": "markdown",
   "metadata": {},
   "source": [
    "### Dropping the ID column"
   ]
  },
  {
   "cell_type": "code",
   "execution_count": 44,
   "metadata": {
    "execution": {
     "iopub.execute_input": "2022-03-06T11:21:28.369043Z",
     "iopub.status.busy": "2022-03-06T11:21:28.368774Z",
     "iopub.status.idle": "2022-03-06T11:21:28.380671Z",
     "shell.execute_reply": "2022-03-06T11:21:28.379687Z",
     "shell.execute_reply.started": "2022-03-06T11:21:28.369013Z"
    }
   },
   "outputs": [],
   "source": [
    "train.drop(['Loan_ID'], axis = 1 , inplace =True)"
   ]
  },
  {
   "cell_type": "markdown",
   "metadata": {},
   "source": [
    "### Viewing the Datasets"
   ]
  },
  {
   "cell_type": "code",
   "execution_count": 45,
   "metadata": {
    "execution": {
     "iopub.execute_input": "2022-03-06T11:21:28.382082Z",
     "iopub.status.busy": "2022-03-06T11:21:28.381843Z",
     "iopub.status.idle": "2022-03-06T11:21:28.40447Z",
     "shell.execute_reply": "2022-03-06T11:21:28.403413Z",
     "shell.execute_reply.started": "2022-03-06T11:21:28.382053Z"
    },
    "scrolled": true
   },
   "outputs": [
    {
     "data": {
      "text/html": [
       "<div>\n",
       "<style scoped>\n",
       "    .dataframe tbody tr th:only-of-type {\n",
       "        vertical-align: middle;\n",
       "    }\n",
       "\n",
       "    .dataframe tbody tr th {\n",
       "        vertical-align: top;\n",
       "    }\n",
       "\n",
       "    .dataframe thead th {\n",
       "        text-align: right;\n",
       "    }\n",
       "</style>\n",
       "<table border=\"1\" class=\"dataframe\">\n",
       "  <thead>\n",
       "    <tr style=\"text-align: right;\">\n",
       "      <th></th>\n",
       "      <th>Dependents</th>\n",
       "      <th>Education</th>\n",
       "      <th>ApplicantIncome</th>\n",
       "      <th>CoapplicantIncome</th>\n",
       "      <th>LoanAmount</th>\n",
       "      <th>Credit_History</th>\n",
       "      <th>Property_Area</th>\n",
       "      <th>Loan_Status</th>\n",
       "      <th>Male</th>\n",
       "      <th>employed_Yes</th>\n",
       "      <th>married_Yes</th>\n",
       "    </tr>\n",
       "  </thead>\n",
       "  <tbody>\n",
       "    <tr>\n",
       "      <th>0</th>\n",
       "      <td>0</td>\n",
       "      <td>0</td>\n",
       "      <td>5849</td>\n",
       "      <td>0.0</td>\n",
       "      <td>146</td>\n",
       "      <td>1.0</td>\n",
       "      <td>0</td>\n",
       "      <td>1</td>\n",
       "      <td>1</td>\n",
       "      <td>0</td>\n",
       "      <td>0</td>\n",
       "    </tr>\n",
       "    <tr>\n",
       "      <th>1</th>\n",
       "      <td>1</td>\n",
       "      <td>0</td>\n",
       "      <td>4583</td>\n",
       "      <td>1508.0</td>\n",
       "      <td>128</td>\n",
       "      <td>1.0</td>\n",
       "      <td>2</td>\n",
       "      <td>0</td>\n",
       "      <td>1</td>\n",
       "      <td>0</td>\n",
       "      <td>1</td>\n",
       "    </tr>\n",
       "    <tr>\n",
       "      <th>2</th>\n",
       "      <td>0</td>\n",
       "      <td>0</td>\n",
       "      <td>3000</td>\n",
       "      <td>0.0</td>\n",
       "      <td>66</td>\n",
       "      <td>1.0</td>\n",
       "      <td>0</td>\n",
       "      <td>1</td>\n",
       "      <td>1</td>\n",
       "      <td>1</td>\n",
       "      <td>1</td>\n",
       "    </tr>\n",
       "    <tr>\n",
       "      <th>3</th>\n",
       "      <td>0</td>\n",
       "      <td>1</td>\n",
       "      <td>2583</td>\n",
       "      <td>2358.0</td>\n",
       "      <td>120</td>\n",
       "      <td>1.0</td>\n",
       "      <td>0</td>\n",
       "      <td>1</td>\n",
       "      <td>1</td>\n",
       "      <td>0</td>\n",
       "      <td>1</td>\n",
       "    </tr>\n",
       "    <tr>\n",
       "      <th>4</th>\n",
       "      <td>0</td>\n",
       "      <td>0</td>\n",
       "      <td>6000</td>\n",
       "      <td>0.0</td>\n",
       "      <td>141</td>\n",
       "      <td>1.0</td>\n",
       "      <td>0</td>\n",
       "      <td>1</td>\n",
       "      <td>1</td>\n",
       "      <td>0</td>\n",
       "      <td>0</td>\n",
       "    </tr>\n",
       "  </tbody>\n",
       "</table>\n",
       "</div>"
      ],
      "text/plain": [
       "   Dependents  Education  ApplicantIncome  CoapplicantIncome  LoanAmount  \\\n",
       "0           0          0             5849                0.0         146   \n",
       "1           1          0             4583             1508.0         128   \n",
       "2           0          0             3000                0.0          66   \n",
       "3           0          1             2583             2358.0         120   \n",
       "4           0          0             6000                0.0         141   \n",
       "\n",
       "   Credit_History  Property_Area  Loan_Status  Male  employed_Yes  married_Yes  \n",
       "0             1.0              0            1     1             0            0  \n",
       "1             1.0              2            0     1             0            1  \n",
       "2             1.0              0            1     1             1            1  \n",
       "3             1.0              0            1     1             0            1  \n",
       "4             1.0              0            1     1             0            0  "
      ]
     },
     "execution_count": 45,
     "metadata": {},
     "output_type": "execute_result"
    }
   ],
   "source": [
    "train.head()"
   ]
  },
  {
   "cell_type": "code",
   "execution_count": 46,
   "metadata": {
    "execution": {
     "iopub.execute_input": "2022-03-06T11:21:28.406313Z",
     "iopub.status.busy": "2022-03-06T11:21:28.405546Z",
     "iopub.status.idle": "2022-03-06T11:21:28.42338Z",
     "shell.execute_reply": "2022-03-06T11:21:28.422409Z",
     "shell.execute_reply.started": "2022-03-06T11:21:28.406263Z"
    }
   },
   "outputs": [
    {
     "data": {
      "text/html": [
       "<div>\n",
       "<style scoped>\n",
       "    .dataframe tbody tr th:only-of-type {\n",
       "        vertical-align: middle;\n",
       "    }\n",
       "\n",
       "    .dataframe tbody tr th {\n",
       "        vertical-align: top;\n",
       "    }\n",
       "\n",
       "    .dataframe thead th {\n",
       "        text-align: right;\n",
       "    }\n",
       "</style>\n",
       "<table border=\"1\" class=\"dataframe\">\n",
       "  <thead>\n",
       "    <tr style=\"text-align: right;\">\n",
       "      <th></th>\n",
       "      <th>Loan_ID</th>\n",
       "      <th>Dependents</th>\n",
       "      <th>Education</th>\n",
       "      <th>ApplicantIncome</th>\n",
       "      <th>CoapplicantIncome</th>\n",
       "      <th>LoanAmount</th>\n",
       "      <th>Credit_History</th>\n",
       "      <th>Property_Area</th>\n",
       "      <th>Male</th>\n",
       "      <th>employed_Yes</th>\n",
       "      <th>married_Yes</th>\n",
       "    </tr>\n",
       "  </thead>\n",
       "  <tbody>\n",
       "    <tr>\n",
       "      <th>0</th>\n",
       "      <td>LP001015</td>\n",
       "      <td>0</td>\n",
       "      <td>0</td>\n",
       "      <td>5720</td>\n",
       "      <td>0</td>\n",
       "      <td>110</td>\n",
       "      <td>1.0</td>\n",
       "      <td>0</td>\n",
       "      <td>1</td>\n",
       "      <td>0</td>\n",
       "      <td>1</td>\n",
       "    </tr>\n",
       "    <tr>\n",
       "      <th>1</th>\n",
       "      <td>LP001022</td>\n",
       "      <td>1</td>\n",
       "      <td>0</td>\n",
       "      <td>3076</td>\n",
       "      <td>1500</td>\n",
       "      <td>126</td>\n",
       "      <td>1.0</td>\n",
       "      <td>0</td>\n",
       "      <td>1</td>\n",
       "      <td>0</td>\n",
       "      <td>1</td>\n",
       "    </tr>\n",
       "    <tr>\n",
       "      <th>2</th>\n",
       "      <td>LP001031</td>\n",
       "      <td>2</td>\n",
       "      <td>0</td>\n",
       "      <td>5000</td>\n",
       "      <td>1800</td>\n",
       "      <td>208</td>\n",
       "      <td>1.0</td>\n",
       "      <td>0</td>\n",
       "      <td>1</td>\n",
       "      <td>0</td>\n",
       "      <td>1</td>\n",
       "    </tr>\n",
       "    <tr>\n",
       "      <th>3</th>\n",
       "      <td>LP001035</td>\n",
       "      <td>2</td>\n",
       "      <td>0</td>\n",
       "      <td>2340</td>\n",
       "      <td>2546</td>\n",
       "      <td>100</td>\n",
       "      <td>1.0</td>\n",
       "      <td>0</td>\n",
       "      <td>1</td>\n",
       "      <td>0</td>\n",
       "      <td>1</td>\n",
       "    </tr>\n",
       "    <tr>\n",
       "      <th>4</th>\n",
       "      <td>LP001051</td>\n",
       "      <td>0</td>\n",
       "      <td>1</td>\n",
       "      <td>3276</td>\n",
       "      <td>0</td>\n",
       "      <td>78</td>\n",
       "      <td>1.0</td>\n",
       "      <td>0</td>\n",
       "      <td>1</td>\n",
       "      <td>0</td>\n",
       "      <td>0</td>\n",
       "    </tr>\n",
       "  </tbody>\n",
       "</table>\n",
       "</div>"
      ],
      "text/plain": [
       "    Loan_ID  Dependents  Education  ApplicantIncome  CoapplicantIncome  \\\n",
       "0  LP001015           0          0             5720                  0   \n",
       "1  LP001022           1          0             3076               1500   \n",
       "2  LP001031           2          0             5000               1800   \n",
       "3  LP001035           2          0             2340               2546   \n",
       "4  LP001051           0          1             3276                  0   \n",
       "\n",
       "   LoanAmount  Credit_History  Property_Area  Male  employed_Yes  married_Yes  \n",
       "0         110             1.0              0     1             0            1  \n",
       "1         126             1.0              0     1             0            1  \n",
       "2         208             1.0              0     1             0            1  \n",
       "3         100             1.0              0     1             0            1  \n",
       "4          78             1.0              0     1             0            0  "
      ]
     },
     "execution_count": 46,
     "metadata": {},
     "output_type": "execute_result"
    }
   ],
   "source": [
    "test.head()"
   ]
  },
  {
   "cell_type": "markdown",
   "metadata": {},
   "source": [
    "# Visualizing the Correlations and Relations"
   ]
  },
  {
   "cell_type": "markdown",
   "metadata": {},
   "source": [
    "### Plot between LoanAmount, Applicant Income, Employement and Gender\n",
    "\n",
    "*What is the relation of Loan taken between men and women?<br> Did the employed ones were greater in number to take Loan ?<br> What is distribution of Loan Amount and Income?*"
   ]
  },
  {
   "cell_type": "code",
   "execution_count": 47,
   "metadata": {
    "execution": {
     "iopub.execute_input": "2022-03-06T11:21:28.424837Z",
     "iopub.status.busy": "2022-03-06T11:21:28.424585Z",
     "iopub.status.idle": "2022-03-06T11:21:29.748231Z",
     "shell.execute_reply": "2022-03-06T11:21:29.74748Z",
     "shell.execute_reply.started": "2022-03-06T11:21:28.424786Z"
    }
   },
   "outputs": [
    {
     "data": {
      "text/plain": [
       "<seaborn.axisgrid.FacetGrid at 0x23cc0936a30>"
      ]
     },
     "execution_count": 47,
     "metadata": {},
     "output_type": "execute_result"
    },
    {
     "data": {
      "image/png": "[encoded data removed]",
      "text/plain": [
       "<Figure size 1079.17x432 with 2 Axes>"
      ]
     },
     "metadata": {
      "needs_background": "light"
     },
     "output_type": "display_data"
    }
   ],
   "source": [
    "g = sns.lmplot(x='ApplicantIncome',y='LoanAmount',data= train , col='employed_Yes', hue='Male',\n",
    "          palette= [\"Red\" , \"Blue\",\"Yellow\"] ,aspect=1.2,size=6)\n",
    "g.set(ylim=(0, 800))\n",
    "##Relation Between the Male or female Applicant's income , Loan taken and Self employment."
   ]
  },
  {
   "cell_type": "markdown",
   "metadata": {},
   "source": [
    "### Above graph tells:\n",
    "    - The male applicants take more amount of loan than female.\n",
    "    - The males are higher in number of \"NOT self employed\" category.\n",
    "    - The amount is still larger in the income range in (0 to 20000).\n",
    "    - Also we observe that majority of applicants are NOT self employed.\n",
    "    - Highest Loan amount taken is by the female applicant of about 700 which is NOT self employed.\n",
    "    - The majority of income taken is about 0-200 with income in the range 0-20000. \n",
    "    - The line plotted shows that with increase in income the amount of loan increases with almost same slope for the case of women in both the cases but a slightely lesser slope in the case of men in Self- Employed category as compared to non-self employed.\n"
   ]
  },
  {
   "cell_type": "markdown",
   "metadata": {},
   "source": [
    "### Boxplots for  relation between Property Area, Amount of Loan and Education qualification "
   ]
  },
  {
   "cell_type": "markdown",
   "metadata": {},
   "source": [
    "- Property_Area: \n",
    "    - `Urban      :0`\n",
    "    - `Semiurban  :1`\n",
    "    - `Rural      :2`"
   ]
  },
  {
   "cell_type": "code",
   "execution_count": 48,
   "metadata": {
    "execution": {
     "iopub.execute_input": "2022-03-06T11:21:29.750157Z",
     "iopub.status.busy": "2022-03-06T11:21:29.749517Z",
     "iopub.status.idle": "2022-03-06T11:21:30.092675Z",
     "shell.execute_reply": "2022-03-06T11:21:30.091534Z",
     "shell.execute_reply.started": "2022-03-06T11:21:29.750121Z"
    }
   },
   "outputs": [
    {
     "data": {
      "text/plain": [
       "<AxesSubplot:xlabel='Property_Area', ylabel='LoanAmount'>"
      ]
     },
     "execution_count": 48,
     "metadata": {},
     "output_type": "execute_result"
    },
    {
     "data": {
      "image/png": "[encoded data removed]",
      "text/plain": [
       "<Figure size 720x360 with 1 Axes>"
      ]
     },
     "metadata": {
      "needs_background": "light"
     },
     "output_type": "display_data"
    }
   ],
   "source": [
    "plt.figure(figsize=(10,5))\n",
    "sns.boxplot(x=\"Property_Area\", y=\"LoanAmount\", hue=\"Education\",data=train, palette=\"coolwarm\")"
   ]
  },
  {
   "cell_type": "markdown",
   "metadata": {},
   "source": [
    "### The above boxplot signifies that,\n",
    "    - In the Urban area the non graduates take slightly more loan than graduates. \n",
    "    - In the Rural and semiurban area the graduates take more amount of Loan than non graduates \n",
    "    - The higher values of Loan are mostly from Urban area \n",
    "    - The semiurban area and rural area both have one unusual Loan amount close to zero.\n"
   ]
  },
  {
   "cell_type": "markdown",
   "metadata": {},
   "source": [
    "### Relation between Credit History and Loan status."
   ]
  },
  {
   "cell_type": "code",
   "execution_count": 49,
   "metadata": {
    "execution": {
     "iopub.execute_input": "2022-03-06T11:21:30.094619Z",
     "iopub.status.busy": "2022-03-06T11:21:30.09436Z",
     "iopub.status.idle": "2022-03-06T11:21:30.103747Z",
     "shell.execute_reply": "2022-03-06T11:21:30.102881Z",
     "shell.execute_reply.started": "2022-03-06T11:21:30.094588Z"
    }
   },
   "outputs": [
    {
     "data": {
      "text/plain": [
       "1.0    525\n",
       "0.0     89\n",
       "Name: Credit_History, dtype: int64"
      ]
     },
     "execution_count": 49,
     "metadata": {},
     "output_type": "execute_result"
    }
   ],
   "source": [
    "train.Credit_History.value_counts()"
   ]
  },
  {
   "cell_type": "code",
   "execution_count": 50,
   "metadata": {
    "execution": {
     "iopub.execute_input": "2022-03-06T11:21:30.106538Z",
     "iopub.status.busy": "2022-03-06T11:21:30.105239Z",
     "iopub.status.idle": "2022-03-06T11:21:30.354329Z",
     "shell.execute_reply": "2022-03-06T11:21:30.353184Z",
     "shell.execute_reply.started": "2022-03-06T11:21:30.106488Z"
    }
   },
   "outputs": [
    {
     "data": {
      "text/plain": [
       "<AxesSubplot:xlabel='Credit_History'>"
      ]
     },
     "execution_count": 50,
     "metadata": {},
     "output_type": "execute_result"
    },
    {
     "data": {
      "image/png": "[encoded data removed]",
      "text/plain": [
       "<Figure size 432x288 with 1 Axes>"
      ]
     },
     "metadata": {
      "needs_background": "light"
     },
     "output_type": "display_data"
    }
   ],
   "source": [
    "lc = pd.crosstab(train['Credit_History'], train['Loan_Status'])\n",
    "lc.plot(kind='bar', stacked=True, color=['red','blue'], grid=False)"
   ]
  },
  {
   "cell_type": "markdown",
   "metadata": {},
   "source": [
    "- The credit history vs Loan Status indicates:\n",
    "    - The good credit history applicants have more chances of getting Loan.\n",
    "    - With better credit History the Loan amount given was greater too.\n",
    "    - But many were not given loan in the range 0-100\n",
    "    - The applicant with poor credit history were handled in the range 0-100 only."
   ]
  },
  {
   "cell_type": "code",
   "execution_count": 51,
   "metadata": {
    "execution": {
     "iopub.execute_input": "2022-03-06T11:21:30.355846Z",
     "iopub.status.busy": "2022-03-06T11:21:30.355589Z",
     "iopub.status.idle": "2022-03-06T11:21:31.219458Z",
     "shell.execute_reply": "2022-03-06T11:21:31.218167Z",
     "shell.execute_reply.started": "2022-03-06T11:21:30.355817Z"
    }
   },
   "outputs": [
    {
     "data": {
      "text/plain": [
       "<AxesSubplot:>"
      ]
     },
     "execution_count": 51,
     "metadata": {},
     "output_type": "execute_result"
    },
    {
     "data": {
      "image/png": "[encoded data removed]",
      "text/plain": [
       "<Figure size 648x432 with 2 Axes>"
      ]
     },
     "metadata": {
      "needs_background": "light"
     },
     "output_type": "display_data"
    }
   ],
   "source": [
    "plt.figure(figsize=(9,6))\n",
    "sns.heatmap(train.drop('Loan_Status',axis=1).corr(), vmax=0.6, square=True, annot=True)"
   ]
  },
  {
   "cell_type": "markdown",
   "metadata": {},
   "source": [
    "# Modelling"
   ]
  },
  {
   "cell_type": "markdown",
   "metadata": {},
   "source": [
    "The problem is of **Classification** as observed and concluded from the data and visualisations."
   ]
  },
  {
   "cell_type": "code",
   "execution_count": 52,
   "metadata": {
    "execution": {
     "iopub.execute_input": "2022-03-06T11:21:31.221424Z",
     "iopub.status.busy": "2022-03-06T11:21:31.220652Z",
     "iopub.status.idle": "2022-03-06T11:21:31.231576Z",
     "shell.execute_reply": "2022-03-06T11:21:31.230586Z",
     "shell.execute_reply.started": "2022-03-06T11:21:31.22138Z"
    }
   },
   "outputs": [],
   "source": [
    "X = train.drop('Loan_Status' , axis = 1 )\n",
    "y = train['Loan_Status']\n",
    "\n",
    "X_train ,X_test , y_train , y_test = train_test_split(X , y , test_size = 0.3 , random_state =102)"
   ]
  },
  {
   "cell_type": "markdown",
   "metadata": {},
   "source": [
    "### Logistic Regression"
   ]
  },
  {
   "cell_type": "code",
   "execution_count": 53,
   "metadata": {
    "execution": {
     "iopub.execute_input": "2022-03-06T11:21:31.233478Z",
     "iopub.status.busy": "2022-03-06T11:21:31.233183Z",
     "iopub.status.idle": "2022-03-06T11:21:31.284676Z",
     "shell.execute_reply": "2022-03-06T11:21:31.283601Z",
     "shell.execute_reply.started": "2022-03-06T11:21:31.233446Z"
    }
   },
   "outputs": [
    {
     "data": {
      "text/plain": [
       "83.78378378378379"
      ]
     },
     "execution_count": 53,
     "metadata": {},
     "output_type": "execute_result"
    }
   ],
   "source": [
    "from sklearn.linear_model import LogisticRegression\n",
    "logmodel = LogisticRegression()\n",
    "logmodel.fit(X_train , y_train)\n",
    "pred_l = logmodel.predict(X_test)\n",
    "acc_l = accuracy_score(y_test , pred_l)*100\n",
    "acc_l"
   ]
  },
  {
   "cell_type": "markdown",
   "metadata": {},
   "source": [
    "### Random Forest"
   ]
  },
  {
   "cell_type": "code",
   "execution_count": 54,
   "metadata": {
    "execution": {
     "iopub.execute_input": "2022-03-06T11:21:31.286326Z",
     "iopub.status.busy": "2022-03-06T11:21:31.286087Z",
     "iopub.status.idle": "2022-03-06T11:21:31.512772Z",
     "shell.execute_reply": "2022-03-06T11:21:31.5119Z",
     "shell.execute_reply.started": "2022-03-06T11:21:31.286299Z"
    }
   },
   "outputs": [
    {
     "data": {
      "text/plain": [
       "81.08108108108108"
      ]
     },
     "execution_count": 54,
     "metadata": {},
     "output_type": "execute_result"
    }
   ],
   "source": [
    "\n",
    "random_forest = RandomForestClassifier(n_estimators= 100)\n",
    "random_forest.fit(X_train, y_train)\n",
    "pred_rf = random_forest.predict(X_test)\n",
    "acc_rf = accuracy_score(y_test , pred_rf)*100\n",
    "acc_rf"
   ]
  },
  {
   "cell_type": "markdown",
   "metadata": {},
   "source": [
    "### K-Nearest Neighbors"
   ]
  },
  {
   "cell_type": "code",
   "execution_count": 55,
   "metadata": {
    "execution": {
     "iopub.execute_input": "2022-03-06T11:21:31.514657Z",
     "iopub.status.busy": "2022-03-06T11:21:31.514343Z",
     "iopub.status.idle": "2022-03-06T11:21:31.544513Z",
     "shell.execute_reply": "2022-03-06T11:21:31.543682Z",
     "shell.execute_reply.started": "2022-03-06T11:21:31.514614Z"
    }
   },
   "outputs": [
    {
     "data": {
      "text/plain": [
       "61.08108108108108"
      ]
     },
     "execution_count": 55,
     "metadata": {},
     "output_type": "execute_result"
    }
   ],
   "source": [
    "\n",
    "knn = KNeighborsClassifier(n_neighbors = 3)\n",
    "knn.fit(X_train, y_train)\n",
    "pred_knn = knn.predict(X_test)\n",
    "acc_knn = accuracy_score(y_test , pred_knn)*100\n",
    "acc_knn"
   ]
  },
  {
   "cell_type": "markdown",
   "metadata": {},
   "source": [
    "### Naive Bayes"
   ]
  },
  {
   "cell_type": "code",
   "execution_count": 56,
   "metadata": {
    "execution": {
     "iopub.execute_input": "2022-03-06T11:21:31.546073Z",
     "iopub.status.busy": "2022-03-06T11:21:31.545837Z",
     "iopub.status.idle": "2022-03-06T11:21:31.561494Z",
     "shell.execute_reply": "2022-03-06T11:21:31.560674Z",
     "shell.execute_reply.started": "2022-03-06T11:21:31.546044Z"
    }
   },
   "outputs": [
    {
     "data": {
      "text/plain": [
       "82.16216216216216"
      ]
     },
     "execution_count": 56,
     "metadata": {},
     "output_type": "execute_result"
    }
   ],
   "source": [
    "gaussian = GaussianNB()\n",
    "gaussian.fit(X_train, y_train)\n",
    "pred_gb = gaussian.predict(X_test)\n",
    "acc_gb = accuracy_score(y_test , pred_gb)*100\n",
    "acc_gb"
   ]
  },
  {
   "cell_type": "markdown",
   "metadata": {},
   "source": [
    "### SVM"
   ]
  },
  {
   "cell_type": "code",
   "execution_count": 57,
   "metadata": {
    "execution": {
     "iopub.execute_input": "2022-03-06T11:21:31.563039Z",
     "iopub.status.busy": "2022-03-06T11:21:31.562764Z",
     "iopub.status.idle": "2022-03-06T11:21:31.589736Z",
     "shell.execute_reply": "2022-03-06T11:21:31.588773Z",
     "shell.execute_reply.started": "2022-03-06T11:21:31.563007Z"
    }
   },
   "outputs": [
    {
     "data": {
      "text/plain": [
       "70.27027027027027"
      ]
     },
     "execution_count": 57,
     "metadata": {},
     "output_type": "execute_result"
    }
   ],
   "source": [
    "svc = SVC()\n",
    "svc.fit(X_train, y_train)\n",
    "pred_svm = svc.predict(X_test)\n",
    "acc_svm = accuracy_score(y_test , pred_svm)*100\n",
    "acc_svm"
   ]
  },
  {
   "cell_type": "code",
   "execution_count": 59,
   "metadata": {
    "execution": {
     "iopub.execute_input": "2022-03-06T11:21:31.713628Z",
     "iopub.status.busy": "2022-03-06T11:21:31.713262Z",
     "iopub.status.idle": "2022-03-06T11:21:31.728176Z",
     "shell.execute_reply": "2022-03-06T11:21:31.726848Z",
     "shell.execute_reply.started": "2022-03-06T11:21:31.713594Z"
    }
   },
   "outputs": [
    {
     "data": {
      "text/html": [
       "<div>\n",
       "<style scoped>\n",
       "    .dataframe tbody tr th:only-of-type {\n",
       "        vertical-align: middle;\n",
       "    }\n",
       "\n",
       "    .dataframe tbody tr th {\n",
       "        vertical-align: top;\n",
       "    }\n",
       "\n",
       "    .dataframe thead th {\n",
       "        text-align: right;\n",
       "    }\n",
       "</style>\n",
       "<table border=\"1\" class=\"dataframe\">\n",
       "  <thead>\n",
       "    <tr style=\"text-align: right;\">\n",
       "      <th></th>\n",
       "      <th>Model</th>\n",
       "      <th>Score</th>\n",
       "    </tr>\n",
       "  </thead>\n",
       "  <tbody>\n",
       "    <tr>\n",
       "      <th>0</th>\n",
       "      <td>Logistic Regression</td>\n",
       "      <td>83.783784</td>\n",
       "    </tr>\n",
       "    <tr>\n",
       "      <th>3</th>\n",
       "      <td>Naive Bayes</td>\n",
       "      <td>82.162162</td>\n",
       "    </tr>\n",
       "    <tr>\n",
       "      <th>1</th>\n",
       "      <td>Random Forrest</td>\n",
       "      <td>81.081081</td>\n",
       "    </tr>\n",
       "    <tr>\n",
       "      <th>4</th>\n",
       "      <td>SVM</td>\n",
       "      <td>70.270270</td>\n",
       "    </tr>\n",
       "    <tr>\n",
       "      <th>2</th>\n",
       "      <td>K- Nearest Neighbour</td>\n",
       "      <td>61.081081</td>\n",
       "    </tr>\n",
       "  </tbody>\n",
       "</table>\n",
       "</div>"
      ],
      "text/plain": [
       "                  Model      Score\n",
       "0   Logistic Regression  83.783784\n",
       "3           Naive Bayes  82.162162\n",
       "1        Random Forrest  81.081081\n",
       "4                   SVM  70.270270\n",
       "2  K- Nearest Neighbour  61.081081"
      ]
     },
     "execution_count": 59,
     "metadata": {},
     "output_type": "execute_result"
    }
   ],
   "source": [
    "## Arranging the Accuracy results\n",
    "models = pd.DataFrame({\n",
    "    'Model': ['Logistic Regression', 'Random Forrest','K- Nearest Neighbour' ,\n",
    "             'Naive Bayes' , 'SVM'],\n",
    "    'Score': [acc_l , acc_rf , acc_knn , acc_gb ,acc_svm]})\n",
    "models.sort_values(by='Score', ascending=False)"
   ]
  },
  {
   "cell_type": "markdown",
   "metadata": {},
   "source": [
    "## The highest classification accuracy is shown by Logistic Regression => 83.78%\n",
    "\n",
    "### Let us Check the feature importance"
   ]
  },
  {
   "cell_type": "code",
   "execution_count": 60,
   "metadata": {
    "execution": {
     "iopub.execute_input": "2022-03-06T11:21:31.729929Z",
     "iopub.status.busy": "2022-03-06T11:21:31.729653Z",
     "iopub.status.idle": "2022-03-06T11:21:31.755461Z",
     "shell.execute_reply": "2022-03-06T11:21:31.754417Z",
     "shell.execute_reply.started": "2022-03-06T11:21:31.729887Z"
    }
   },
   "outputs": [
    {
     "data": {
      "text/html": [
       "<div>\n",
       "<style scoped>\n",
       "    .dataframe tbody tr th:only-of-type {\n",
       "        vertical-align: middle;\n",
       "    }\n",
       "\n",
       "    .dataframe tbody tr th {\n",
       "        vertical-align: top;\n",
       "    }\n",
       "\n",
       "    .dataframe thead th {\n",
       "        text-align: right;\n",
       "    }\n",
       "</style>\n",
       "<table border=\"1\" class=\"dataframe\">\n",
       "  <thead>\n",
       "    <tr style=\"text-align: right;\">\n",
       "      <th></th>\n",
       "      <th>Importance</th>\n",
       "    </tr>\n",
       "    <tr>\n",
       "      <th>Features</th>\n",
       "      <th></th>\n",
       "    </tr>\n",
       "  </thead>\n",
       "  <tbody>\n",
       "    <tr>\n",
       "      <th>Credit_History</th>\n",
       "      <td>0.244</td>\n",
       "    </tr>\n",
       "    <tr>\n",
       "      <th>ApplicantIncome</th>\n",
       "      <td>0.216</td>\n",
       "    </tr>\n",
       "    <tr>\n",
       "      <th>LoanAmount</th>\n",
       "      <td>0.206</td>\n",
       "    </tr>\n",
       "    <tr>\n",
       "      <th>CoapplicantIncome</th>\n",
       "      <td>0.126</td>\n",
       "    </tr>\n",
       "    <tr>\n",
       "      <th>Dependents</th>\n",
       "      <td>0.055</td>\n",
       "    </tr>\n",
       "    <tr>\n",
       "      <th>Property_Area</th>\n",
       "      <td>0.052</td>\n",
       "    </tr>\n",
       "    <tr>\n",
       "      <th>Education</th>\n",
       "      <td>0.029</td>\n",
       "    </tr>\n",
       "    <tr>\n",
       "      <th>Male</th>\n",
       "      <td>0.025</td>\n",
       "    </tr>\n",
       "    <tr>\n",
       "      <th>married_Yes</th>\n",
       "      <td>0.025</td>\n",
       "    </tr>\n",
       "    <tr>\n",
       "      <th>employed_Yes</th>\n",
       "      <td>0.021</td>\n",
       "    </tr>\n",
       "  </tbody>\n",
       "</table>\n",
       "</div>"
      ],
      "text/plain": [
       "                   Importance\n",
       "Features                     \n",
       "Credit_History          0.244\n",
       "ApplicantIncome         0.216\n",
       "LoanAmount              0.206\n",
       "CoapplicantIncome       0.126\n",
       "Dependents              0.055\n",
       "Property_Area           0.052\n",
       "Education               0.029\n",
       "Male                    0.025\n",
       "married_Yes             0.025\n",
       "employed_Yes            0.021"
      ]
     },
     "execution_count": 60,
     "metadata": {},
     "output_type": "execute_result"
    }
   ],
   "source": [
    "importances = pd.DataFrame({'Features':X_train.columns,'Importance':np.round(random_forest.feature_importances_,3)})\n",
    "importances = importances.sort_values('Importance',ascending=False).set_index('Features')\n",
    "importances.head(11) "
   ]
  },
  {
   "cell_type": "code",
   "execution_count": 61,
   "metadata": {
    "execution": {
     "iopub.execute_input": "2022-03-06T11:21:31.75726Z",
     "iopub.status.busy": "2022-03-06T11:21:31.757023Z",
     "iopub.status.idle": "2022-03-06T11:21:32.019525Z",
     "shell.execute_reply": "2022-03-06T11:21:32.018575Z",
     "shell.execute_reply.started": "2022-03-06T11:21:31.75723Z"
    }
   },
   "outputs": [
    {
     "data": {
      "text/plain": [
       "<AxesSubplot:xlabel='Features'>"
      ]
     },
     "execution_count": 61,
     "metadata": {},
     "output_type": "execute_result"
    },
    {
     "data": {
      "image/png": "[encoded data removed]",
      "text/plain": [
       "<Figure size 432x288 with 1 Axes>"
      ]
     },
     "metadata": {
      "needs_background": "light"
     },
     "output_type": "display_data"
    }
   ],
   "source": [
    "importances.plot.bar()"
   ]
  },
  {
   "cell_type": "markdown",
   "metadata": {},
   "source": [
    "> Credit History has the maximum importance and Employment has the least!"
   ]
  },
  {
   "cell_type": "markdown",
   "metadata": {},
   "source": [
    "# Conclusion\n",
    "\n",
    "The Loan status has better relation with features such as Credit History, Applicant's Income, Loan Amount needed by them, Family status(Depenedents) and Property Area which are generally considered by the loan providing organisations. These factors are hence used to take correct decisions to provide loan status or not. This data analysis hence gives a realisation of features and the relation between them from the older decision examples hence giving a learning to predict the class of the unseen data. "
   ]
  }
 ],
 "metadata": {
  "kernelspec": {
   "display_name": "Python 3 (ipykernel)",
   "language": "python",
   "name": "python3"
  },
  "language_info": {
   "codemirror_mode": {
    "name": "ipython",
    "version": 3
   },
   "file_extension": ".py",
   "mimetype": "text/x-python",
   "name": "python",
   "nbconvert_exporter": "python",
   "pygments_lexer": "ipython3",
   "version": "3.9.12"
  }
 },
 "nbformat": 4,
 "nbformat_minor": 4
}
